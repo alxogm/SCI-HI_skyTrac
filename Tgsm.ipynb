{
 "cells": [
  {
   "cell_type": "code",
   "execution_count": 1,
   "metadata": {},
   "outputs": [],
   "source": [
    "import numpy as np\n",
    "import matplotlib.pyplot as plt\n",
    "import healpy as hp\n",
    "import pandas as pd\n",
    "from matplotlib import cm\n",
    "from astropy.time import Time\n",
    "from astropy.coordinates import SkyCoord\n",
    "from astropy import units as u\n",
    "from power_to_temperature import Radio_source_trans\n",
    "Cmap = cm.jet\n",
    "Cmap.set_under(\"w\")\n",
    "%matplotlib inline"
   ]
  },
  {
   "cell_type": "code",
   "execution_count": 2,
   "metadata": {},
   "outputs": [],
   "source": [
    "def trajectory(time,lon = -118.3011,lat = 28.9733):\n",
    "    \"\"\"\n",
    "    Calculates trayectories for the antenna in a given time.\n",
    "    Returns an array of l and b galactic coordinates values in degrees, for a given location.\n",
    "    \n",
    "    It is asummed that the antenna is looking derectly to the zenit, \n",
    "    so in this case the right ascention (RA) is equal to the local sideral time of the location \n",
    "    and the declination (DEC) is equal to the latitude.\n",
    "    \n",
    "    Parameters:\n",
    "    time: local time of observation, can be an array or a single time. Prefered format is\n",
    "          'yyyy-mm-dd hh:mm:ss'. \n",
    "    \n",
    "    Optional parameters:\n",
    "    lon: Default longitude is given for Isla de Guadalupe at -118.3011 degrees\n",
    "    lat: Default latitude is given for Isla de Guadalupe at 28.9733 degrees\n",
    "    \"\"\"\n",
    "    t = Time(time, location =(lon,lat))\n",
    "    RA = np.array(t.sidereal_time('mean').degree)\n",
    "    DEC = lat*np.ones(len(RA))\n",
    "    coords = SkyCoord(ra=RA*u.degree,dec=DEC*u.degree)\n",
    "    l = coords.galactic.l.degree\n",
    "    b = coords.galactic.b.degree\n",
    "    return l,b"
   ]
  },
  {
   "cell_type": "code",
   "execution_count": 3,
   "metadata": {},
   "outputs": [],
   "source": [
    "def pattern(time,Freq,lon = -118.3011,lat = 28.9733):\n",
    "    \"\"\"\n",
    "    Calculates the beam pattern for the antenna at a given time.\n",
    "    Returns an array of l and b galactic coordinates values in degrees of the antenna pattern, \n",
    "    for a given location and day.\n",
    "    \n",
    "    It also returns an array of Temperature lecture of the antenna for a given coordinate (l,b)\n",
    "    \n",
    "    Parameters:\n",
    "    time: local time of observation, can be an array or a single time. Prefered format is\n",
    "          'yyyy-mm-dd hh:mm:ss'. \n",
    "    Freq: Frequency of the antenna beam in MHz.\n",
    "    \n",
    "    Optional parameters:\n",
    "    lon: Default longitude is given for Isla de Guadalupe at -118.3011 degrees\n",
    "    lat: Default latitude is given for Isla de Guadalupe at 28.9733 degrees\n",
    "    \"\"\"\n",
    "    Data = pd.read_hdf(\"antenna_beam/0%dMHz.hdf5\"%Freq)\n",
    "    t = Time(time, location =(lon,lat))\n",
    "    LST = t.sidereal_time('mean').degree\n",
    "    theta,phi = np.radians(Data.values[:,0]),np.radians(Data.values[:,1])\n",
    "    dB = Data.values[:,2]\n",
    "    X,Y,Z=np.sin(theta)*np.cos(phi),np.sin(theta)*np.sin(phi),np.cos(theta) \n",
    "    Rxy = np.sqrt(X**2.+Y**2.)\n",
    "    colat,Az = np.arctan2(Rxy,Z),np.arctan2(Y,X)\n",
    "    Alt = 0.5*np.pi-colat\n",
    "    lat = np.radians(lat)\n",
    "    sinDEC = np.sin(Alt)*np.sin(lat)-np.cos(Alt)*np.cos(Az)*np.cos(lat)\n",
    "    DEC = np.arcsin(sinDEC)\n",
    "    sinH = np.sin(Az)*np.cos(Alt)/np.cos(DEC)\n",
    "    cosH = (np.cos(Az)*np.cos(Alt)*np.sin(lat)+np.sin(Alt)*np.cos(lat))/np.cos(DEC)\n",
    "    H = np.arctan2(sinH,cosH)\n",
    "    DEC = np.degrees(DEC)\n",
    "    RA = LST - np.degrees(H)\n",
    "    coords = SkyCoord(ra=RA*u.degree,dec=DEC*u.degree)\n",
    "    l = coords.galactic.l.degree\n",
    "    b = coords.galactic.b.degree\n",
    "    Temp = Radio_source_trans(dB,Freq,1e6)\n",
    "    return l,b,Temp"
   ]
  },
  {
   "cell_type": "code",
   "execution_count": 4,
   "metadata": {},
   "outputs": [],
   "source": [
    "def convolve(time,Freq):\n",
    "    \"\"\"\n",
    "    Convolves the antenna beam pattern with the gsm map of the galaxy for a given frequenacy.\n",
    "    Returns the convolved temperature of the gsm.\n",
    "    \n",
    "    Parameters:\n",
    "    time: local time of observation,\n",
    "    Freq: Frequency desired in MHz.\n",
    "    \"\"\"\n",
    "    Data = pd.read_hdf(\"gsm_maps/gsm_%dMHz.hdf5\"%Freq)\n",
    "    bmap_gal = Data.values[:,0]\n",
    "    bmap_gal2 = hp.ud_grade(bmap_gal, can be an array or a single time. Prefered format is\n",
    "        'yyyy-mm-dd hh:mm:ss'. 32)\n",
    "    l,b,Temp = pattern(time,Freq)\n",
    "    pix = hp.ang2pix(nside,l, b, lonlat=True)\n",
    "    bmap_pat = np.zeros(hp.nside2npix(nside))\n",
    "    bmap_pat[pix] = Temp\n",
    "    T_gsm = sum(bmap_gal2*bmap_pat)/sum(bmap_pat)\n",
    "    return T_gsm"
   ]
  },
  {
   "cell_type": "code",
   "execution_count": 5,
   "metadata": {},
   "outputs": [],
   "source": [
    "dates =  ['2018-04-03 00:00:00','2018-04-03 23:59:59']\n",
    "T = Time(dates)\n",
    "dt = T[1]-T[0]\n",
    "times = T[0] + dt*np.linspace(0.,1.,300)"
   ]
  },
  {
   "cell_type": "code",
   "execution_count": 6,
   "metadata": {},
   "outputs": [
    {
     "data": {
      "text/plain": [
       "[<matplotlib.lines.Line2D at 0x7f0e8b209190>]"
      ]
     },
     "execution_count": 6,
     "metadata": {},
     "output_type": "execute_result"
    },
    {
     "data": {
      "image/png": "[encoded data removed]",
      "text/plain": [
       "<matplotlib.figure.Figure at 0x7f0e8bfef3d0>"
      ]
     },
     "metadata": {},
     "output_type": "display_data"
    }
   ],
   "source": [
    "l_gal,b_gal = trajectory(times)\n",
    "plt.plot(l_gal,b_gal,'o',markersize=1)"
   ]
  },
  {
   "cell_type": "code",
   "execution_count": 7,
   "metadata": {
    "scrolled": true
   },
   "outputs": [],
   "source": [
    "Data_70 = pd.read_hdf(\"gsm_maps/gsm_70MHz.hdf5\")\n",
    "bmap_gal = Data_70.values[:,0]\n",
    "bmap_gal = np.log10(bmap_gal)\n",
    "hp.mollview(bmap_gal,cmap=Cmap)\n",
    "hp.projplot(l_gal, b_gal,'-k',lonlat=True)\n",
    "plt.savefig('../Imagenes/Trajectory.png')\n",
    "plt.close()"
   ]
  },
  {
   "cell_type": "code",
   "execution_count": 8,
   "metadata": {},
   "outputs": [],
   "source": [
    "t0 = Time('2013-06-01 00:00:00')\n",
    "dt = 4*u.hour\n",
    "times = t0 + dt*np.arange(0,24/dt.value)\n",
    "for i in range(len(times)):\n",
    "    l,b,Temp = pattern(time = times[i],Freq=70)\n",
    "    nside = 32\n",
    "    pix = hp.ang2pix(nside,l, b, lonlat=True)\n",
    "    bmap_pat = np.zeros(hp.nside2npix(nside))\n",
    "    bmap_pat[pix] = Temp\n",
    "    hp.cartview(bmap_pat,cmap=Cmap)\n",
    "    hp.projplot(l_gal, b_gal,'.k',lonlat=True)\n",
    "    plt.savefig('../Imagenes/'+str(t0+i*dt)+'_cartview_gal.png')\n",
    "    plt.close()\n",
    "    hp.mollview(bmap_pat,cmap=Cmap)\n",
    "    hp.projplot(l_gal, b_gal,'-k',lonlat=True)\n",
    "    plt.savefig('../Imagenes/'+str(t0+i*dt)+'_mollview_gal.png')\n",
    "    plt.close()\n",
    "    hp.mollview(bmap_pat,coord =['G','C'],cmap=Cmap,flip='geo')\n",
    "    plt.savefig('../Imagenes/'+str(t0+i*dt)+'_mollview_altaz.png')\n",
    "    plt.close()"
   ]
  },
  {
   "cell_type": "code",
   "execution_count": 9,
   "metadata": {},
   "outputs": [
    {
     "data": {
      "text/plain": [
       "\"\\nplt.plot(Freqs,Temps_mean,'-o')\\nplt.xlabel('Frequency [MHz]')\\nplt.ylabel('Temperature [Kelvin]')\\nplt.savefig('../Imagenes/FreqvsTemp_mean.png'%f)\\nplt.close()\\n\""
      ]
     },
     "execution_count": 9,
     "metadata": {},
     "output_type": "execute_result"
    }
   ],
   "source": [
    "def T_gsm(time,freqs = (50,91),bins=20):\n",
    "    \"\"\"\n",
    "    Provides a table of the convolved temperature of the GSM map with the \n",
    "    Antenna beam pattern for a full day of observation, in a range of frequencies.\n",
    "    It saves a file named Tgsm.hdf5 with the values obtained  in the calibration folder.\n",
    "    \n",
    "    \n",
    "    Parameters:\n",
    "    time: Initial date and time of observation, prefered format is'yyyy-mm-dd hh:mm:ss'. \n",
    "    \n",
    "    \n",
    "    Optional parameters:\n",
    "    freqs: Range of frequencies, must be a tuple with initial frequency and final frequency.\n",
    "           Default is 50-90\n",
    "    bins: Observation interval in minutes, default is 20 minutes.\n",
    "    \"\"\"\n",
    "    \n",
    "    Freqs = np.arange(freqs[0],freqs[1]+1)\n",
    "    t0 = Time(time)\n",
    "    days = 1 # dias de observacion\n",
    "    dt = bin*u.min #Cambiar segun se requiera\n",
    "    DT = dt.to(u.hour)\n",
    "    times = t0 + DT*np.arange(0,days*24/DT.value)\n",
    "    data = np.zeros([len(times),len(Freqs)])\n",
    "    i,j = 0,0\n",
    "    for f in Freqs:\n",
    "        for k in range(len(times)):\n",
    "            data[i,j] = convolve(times[k],f)\n",
    "            i+=1\n",
    "        j+=1\n",
    "        i=0\n",
    "    df = pd.DataFrame(data,index = times.value,columns=Freqs)\n",
    "    df.to_hdf('calibration/Tgsm.hdf5'%f,'df')\n",
    "    return df\n",
    "\n",
    "\n",
    "\"\"\"\n",
    "    plt.plot(T,arr,'-o')\n",
    "    plt.xlabel('LST')\n",
    "    plt.ylabel('T')\n",
    "    plt.savefig('../Imagenes/day_0%dMhz.png'%f)\n",
    "    plt.close()\n",
    "\"\"\"\n",
    "\"\"\"\n",
    "plt.plot(Freqs,Temps_mean,'-o')\n",
    "plt.xlabel('Frequency [MHz]')\n",
    "plt.ylabel('Temperature [Kelvin]')\n",
    "plt.savefig('../Imagenes/FreqvsTemp_mean.png'%f)\n",
    "plt.close()\n",
    "\"\"\"\n"
   ]
  },
  {
   "cell_type": "code",
   "execution_count": 34,
   "metadata": {},
   "outputs": [
    {
     "ename": "KeyError",
     "evalue": "'50'",
     "output_type": "error",
     "traceback": [
      "\u001b[0;31m---------------------------------------------------------------------------\u001b[0m",
      "\u001b[0;31mKeyError\u001b[0m                                  Traceback (most recent call last)",
      "\u001b[0;32m<ipython-input-34-dc5eb67a56e0>\u001b[0m in \u001b[0;36m<module>\u001b[0;34m()\u001b[0m\n\u001b[0;32m----> 1\u001b[0;31m \u001b[0mdf\u001b[0m\u001b[0;34m[\u001b[0m\u001b[0;34m'50'\u001b[0m\u001b[0;34m]\u001b[0m\u001b[0;34m.\u001b[0m\u001b[0mvalues\u001b[0m\u001b[0;34m\u001b[0m\u001b[0m\n\u001b[0m",
      "\u001b[0;32m/home/hiram/anaconda2/lib/python2.7/site-packages/pandas/core/frame.pyc\u001b[0m in \u001b[0;36m__getitem__\u001b[0;34m(self, key)\u001b[0m\n\u001b[1;32m   2137\u001b[0m             \u001b[0;32mreturn\u001b[0m \u001b[0mself\u001b[0m\u001b[0;34m.\u001b[0m\u001b[0m_getitem_multilevel\u001b[0m\u001b[0;34m(\u001b[0m\u001b[0mkey\u001b[0m\u001b[0;34m)\u001b[0m\u001b[0;34m\u001b[0m\u001b[0m\n\u001b[1;32m   2138\u001b[0m         \u001b[0;32melse\u001b[0m\u001b[0;34m:\u001b[0m\u001b[0;34m\u001b[0m\u001b[0m\n\u001b[0;32m-> 2139\u001b[0;31m             \u001b[0;32mreturn\u001b[0m \u001b[0mself\u001b[0m\u001b[0;34m.\u001b[0m\u001b[0m_getitem_column\u001b[0m\u001b[0;34m(\u001b[0m\u001b[0mkey\u001b[0m\u001b[0;34m)\u001b[0m\u001b[0;34m\u001b[0m\u001b[0m\n\u001b[0m\u001b[1;32m   2140\u001b[0m \u001b[0;34m\u001b[0m\u001b[0m\n\u001b[1;32m   2141\u001b[0m     \u001b[0;32mdef\u001b[0m \u001b[0m_getitem_column\u001b[0m\u001b[0;34m(\u001b[0m\u001b[0mself\u001b[0m\u001b[0;34m,\u001b[0m \u001b[0mkey\u001b[0m\u001b[0;34m)\u001b[0m\u001b[0;34m:\u001b[0m\u001b[0;34m\u001b[0m\u001b[0m\n",
      "\u001b[0;32m/home/hiram/anaconda2/lib/python2.7/site-packages/pandas/core/frame.pyc\u001b[0m in \u001b[0;36m_getitem_column\u001b[0;34m(self, key)\u001b[0m\n\u001b[1;32m   2144\u001b[0m         \u001b[0;31m# get column\u001b[0m\u001b[0;34m\u001b[0m\u001b[0;34m\u001b[0m\u001b[0m\n\u001b[1;32m   2145\u001b[0m         \u001b[0;32mif\u001b[0m \u001b[0mself\u001b[0m\u001b[0;34m.\u001b[0m\u001b[0mcolumns\u001b[0m\u001b[0;34m.\u001b[0m\u001b[0mis_unique\u001b[0m\u001b[0;34m:\u001b[0m\u001b[0;34m\u001b[0m\u001b[0m\n\u001b[0;32m-> 2146\u001b[0;31m             \u001b[0;32mreturn\u001b[0m \u001b[0mself\u001b[0m\u001b[0;34m.\u001b[0m\u001b[0m_get_item_cache\u001b[0m\u001b[0;34m(\u001b[0m\u001b[0mkey\u001b[0m\u001b[0;34m)\u001b[0m\u001b[0;34m\u001b[0m\u001b[0m\n\u001b[0m\u001b[1;32m   2147\u001b[0m \u001b[0;34m\u001b[0m\u001b[0m\n\u001b[1;32m   2148\u001b[0m         \u001b[0;31m# duplicate columns & possible reduce dimensionality\u001b[0m\u001b[0;34m\u001b[0m\u001b[0;34m\u001b[0m\u001b[0m\n",
      "\u001b[0;32m/home/hiram/anaconda2/lib/python2.7/site-packages/pandas/core/generic.pyc\u001b[0m in \u001b[0;36m_get_item_cache\u001b[0;34m(self, item)\u001b[0m\n\u001b[1;32m   1840\u001b[0m         \u001b[0mres\u001b[0m \u001b[0;34m=\u001b[0m \u001b[0mcache\u001b[0m\u001b[0;34m.\u001b[0m\u001b[0mget\u001b[0m\u001b[0;34m(\u001b[0m\u001b[0mitem\u001b[0m\u001b[0;34m)\u001b[0m\u001b[0;34m\u001b[0m\u001b[0m\n\u001b[1;32m   1841\u001b[0m         \u001b[0;32mif\u001b[0m \u001b[0mres\u001b[0m \u001b[0;32mis\u001b[0m \u001b[0mNone\u001b[0m\u001b[0;34m:\u001b[0m\u001b[0;34m\u001b[0m\u001b[0m\n\u001b[0;32m-> 1842\u001b[0;31m             \u001b[0mvalues\u001b[0m \u001b[0;34m=\u001b[0m \u001b[0mself\u001b[0m\u001b[0;34m.\u001b[0m\u001b[0m_data\u001b[0m\u001b[0;34m.\u001b[0m\u001b[0mget\u001b[0m\u001b[0;34m(\u001b[0m\u001b[0mitem\u001b[0m\u001b[0;34m)\u001b[0m\u001b[0;34m\u001b[0m\u001b[0m\n\u001b[0m\u001b[1;32m   1843\u001b[0m             \u001b[0mres\u001b[0m \u001b[0;34m=\u001b[0m \u001b[0mself\u001b[0m\u001b[0;34m.\u001b[0m\u001b[0m_box_item_values\u001b[0m\u001b[0;34m(\u001b[0m\u001b[0mitem\u001b[0m\u001b[0;34m,\u001b[0m \u001b[0mvalues\u001b[0m\u001b[0;34m)\u001b[0m\u001b[0;34m\u001b[0m\u001b[0m\n\u001b[1;32m   1844\u001b[0m             \u001b[0mcache\u001b[0m\u001b[0;34m[\u001b[0m\u001b[0mitem\u001b[0m\u001b[0;34m]\u001b[0m \u001b[0;34m=\u001b[0m \u001b[0mres\u001b[0m\u001b[0;34m\u001b[0m\u001b[0m\n",
      "\u001b[0;32m/home/hiram/anaconda2/lib/python2.7/site-packages/pandas/core/internals.pyc\u001b[0m in \u001b[0;36mget\u001b[0;34m(self, item, fastpath)\u001b[0m\n\u001b[1;32m   3841\u001b[0m \u001b[0;34m\u001b[0m\u001b[0m\n\u001b[1;32m   3842\u001b[0m             \u001b[0;32mif\u001b[0m \u001b[0;32mnot\u001b[0m \u001b[0misna\u001b[0m\u001b[0;34m(\u001b[0m\u001b[0mitem\u001b[0m\u001b[0;34m)\u001b[0m\u001b[0;34m:\u001b[0m\u001b[0;34m\u001b[0m\u001b[0m\n\u001b[0;32m-> 3843\u001b[0;31m                 \u001b[0mloc\u001b[0m \u001b[0;34m=\u001b[0m \u001b[0mself\u001b[0m\u001b[0;34m.\u001b[0m\u001b[0mitems\u001b[0m\u001b[0;34m.\u001b[0m\u001b[0mget_loc\u001b[0m\u001b[0;34m(\u001b[0m\u001b[0mitem\u001b[0m\u001b[0;34m)\u001b[0m\u001b[0;34m\u001b[0m\u001b[0m\n\u001b[0m\u001b[1;32m   3844\u001b[0m             \u001b[0;32melse\u001b[0m\u001b[0;34m:\u001b[0m\u001b[0;34m\u001b[0m\u001b[0m\n\u001b[1;32m   3845\u001b[0m                 \u001b[0mindexer\u001b[0m \u001b[0;34m=\u001b[0m \u001b[0mnp\u001b[0m\u001b[0;34m.\u001b[0m\u001b[0marange\u001b[0m\u001b[0;34m(\u001b[0m\u001b[0mlen\u001b[0m\u001b[0;34m(\u001b[0m\u001b[0mself\u001b[0m\u001b[0;34m.\u001b[0m\u001b[0mitems\u001b[0m\u001b[0;34m)\u001b[0m\u001b[0;34m)\u001b[0m\u001b[0;34m[\u001b[0m\u001b[0misna\u001b[0m\u001b[0;34m(\u001b[0m\u001b[0mself\u001b[0m\u001b[0;34m.\u001b[0m\u001b[0mitems\u001b[0m\u001b[0;34m)\u001b[0m\u001b[0;34m]\u001b[0m\u001b[0;34m\u001b[0m\u001b[0m\n",
      "\u001b[0;32m/home/hiram/anaconda2/lib/python2.7/site-packages/pandas/core/indexes/base.pyc\u001b[0m in \u001b[0;36mget_loc\u001b[0;34m(self, key, method, tolerance)\u001b[0m\n\u001b[1;32m   2525\u001b[0m                 \u001b[0;32mreturn\u001b[0m \u001b[0mself\u001b[0m\u001b[0;34m.\u001b[0m\u001b[0m_engine\u001b[0m\u001b[0;34m.\u001b[0m\u001b[0mget_loc\u001b[0m\u001b[0;34m(\u001b[0m\u001b[0mkey\u001b[0m\u001b[0;34m)\u001b[0m\u001b[0;34m\u001b[0m\u001b[0m\n\u001b[1;32m   2526\u001b[0m             \u001b[0;32mexcept\u001b[0m \u001b[0mKeyError\u001b[0m\u001b[0;34m:\u001b[0m\u001b[0;34m\u001b[0m\u001b[0m\n\u001b[0;32m-> 2527\u001b[0;31m                 \u001b[0;32mreturn\u001b[0m \u001b[0mself\u001b[0m\u001b[0;34m.\u001b[0m\u001b[0m_engine\u001b[0m\u001b[0;34m.\u001b[0m\u001b[0mget_loc\u001b[0m\u001b[0;34m(\u001b[0m\u001b[0mself\u001b[0m\u001b[0;34m.\u001b[0m\u001b[0m_maybe_cast_indexer\u001b[0m\u001b[0;34m(\u001b[0m\u001b[0mkey\u001b[0m\u001b[0;34m)\u001b[0m\u001b[0;34m)\u001b[0m\u001b[0;34m\u001b[0m\u001b[0m\n\u001b[0m\u001b[1;32m   2528\u001b[0m \u001b[0;34m\u001b[0m\u001b[0m\n\u001b[1;32m   2529\u001b[0m         \u001b[0mindexer\u001b[0m \u001b[0;34m=\u001b[0m \u001b[0mself\u001b[0m\u001b[0;34m.\u001b[0m\u001b[0mget_indexer\u001b[0m\u001b[0;34m(\u001b[0m\u001b[0;34m[\u001b[0m\u001b[0mkey\u001b[0m\u001b[0;34m]\u001b[0m\u001b[0;34m,\u001b[0m \u001b[0mmethod\u001b[0m\u001b[0;34m=\u001b[0m\u001b[0mmethod\u001b[0m\u001b[0;34m,\u001b[0m \u001b[0mtolerance\u001b[0m\u001b[0;34m=\u001b[0m\u001b[0mtolerance\u001b[0m\u001b[0;34m)\u001b[0m\u001b[0;34m\u001b[0m\u001b[0m\n",
      "\u001b[0;32mpandas/_libs/index.pyx\u001b[0m in \u001b[0;36mpandas._libs.index.IndexEngine.get_loc\u001b[0;34m()\u001b[0m\n",
      "\u001b[0;32mpandas/_libs/index.pyx\u001b[0m in \u001b[0;36mpandas._libs.index.IndexEngine.get_loc\u001b[0;34m()\u001b[0m\n",
      "\u001b[0;31mKeyError\u001b[0m: '50'"
     ]
    }
   ],
   "source": [
    "df['50'].values"
   ]
  },
  {
   "cell_type": "code",
   "execution_count": 47,
   "metadata": {},
   "outputs": [
    {
     "data": {
      "text/plain": [
       "array([ 4008.18246862,  3882.97578835,  3777.23165154,  3694.76766479,\n",
       "        3639.07975892,  3610.19986243,  3609.11103726,  3634.7081668 ,\n",
       "        3685.72366193,  3760.20191925,  3856.66266744,  3972.61498443,\n",
       "        4109.93280846,  4270.28080689,  4452.20827829,  4656.56712657,\n",
       "        4891.13394315,  5163.40703642,  5481.07909496,  5847.0933106 ,\n",
       "        6261.47825432,  6712.30733898,  7191.82086055,  7679.40164786,\n",
       "        8158.03297521,  8599.14889205,  8977.42517146,  9273.13260991,\n",
       "        9481.72451602,  9572.35746237,  9553.97220593,  9430.11361611,\n",
       "        9212.38335661,  8918.01104713,  8562.99744324,  8178.29207935,\n",
       "        7779.24385053,  7383.07408149,  7013.8325661 ,  6683.18188443,\n",
       "        6391.18696077,  6146.41155709,  5947.33254369,  5786.57021218,\n",
       "        5661.18740095,  5564.44250798,  5489.83322274,  5431.35767064,\n",
       "        5384.79535819,  5350.05924982,  5323.62320732,  5303.67040987,\n",
       "        5290.36863096,  5283.05719253,  5280.85558523,  5279.99469078,\n",
       "        5281.84394996,  5286.19414778,  5287.47436182,  5282.2547252 ,\n",
       "        5269.47471929,  5244.57391142,  5203.03510906,  5143.42359231,\n",
       "        5065.47666698,  4966.94279934,  4850.88578991,  4718.13514037,\n",
       "        4573.02628093,  4421.33948664,  4268.23731305,  4119.60786229])"
      ]
     },
     "execution_count": 47,
     "metadata": {},
     "output_type": "execute_result"
    }
   ],
   "source": [
    "df[50].values"
   ]
  },
  {
   "cell_type": "code",
   "execution_count": 48,
   "metadata": {},
   "outputs": [],
   "source": [
    "lists = np.arange(50)"
   ]
  },
  {
   "cell_type": "code",
   "execution_count": 49,
   "metadata": {},
   "outputs": [],
   "source": [
    "lists=str(lists)"
   ]
  },
  {
   "cell_type": "code",
   "execution_count": 50,
   "metadata": {},
   "outputs": [
    {
     "data": {
      "text/plain": [
       "'[ 0  1  2  3  4  5  6  7  8  9 10 11 12 13 14 15 16 17 18 19 20 21 22 23 24\\n 25 26 27 28 29 30 31 32 33 34 35 36 37 38 39 40 41 42 43 44 45 46 47 48 49]'"
      ]
     },
     "execution_count": 50,
     "metadata": {},
     "output_type": "execute_result"
    }
   ],
   "source": [
    "lists"
   ]
  },
  {
   "cell_type": "code",
   "execution_count": null,
   "metadata": {},
   "outputs": [],
   "source": []
  }
 ],
 "metadata": {
  "kernelspec": {
   "display_name": "Python 2",
   "language": "python",
   "name": "python2"
  },
  "language_info": {
   "codemirror_mode": {
    "name": "ipython",
    "version": 2
   },
   "file_extension": ".py",
   "mimetype": "text/x-python",
   "name": "python",
   "nbconvert_exporter": "python",
   "pygments_lexer": "ipython2",
   "version": "2.7.14"
  }
 },
 "nbformat": 4,
 "nbformat_minor": 2
}
